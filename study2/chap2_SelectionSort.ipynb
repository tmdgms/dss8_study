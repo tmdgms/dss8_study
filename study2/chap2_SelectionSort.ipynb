{
 "cells": [
  {
   "cell_type": "markdown",
   "metadata": {},
   "source": [
    "## 01. 메모리가 동작하는 방법\n",
    "- 메모리에 무엇인가를 저장해야 할때 컴퓨터에게 공간을 요청함\n",
    "- 그러면 컴퓨터는 그공간에 대한 주소값을 주고 나는 거기에 무엇인가를 저장하면됨\n",
    "- ex) 놀이공원에 가서 기구를 타려고 물건을 맡기려고 할때 물건을 36번 서랍에 넣음\n",
    "    - 여기서 물건 = 저장할 것, 서랍 = 공간, 서랍번호 = 주소값\n"
   ]
  },
  {
   "cell_type": "markdown",
   "metadata": {},
   "source": [
    "## 02. 배열과 연결 리스트\n",
    "- 여러개의 항목을 목록으로 메모리에 저장해야 할때 배열 vs 연결 리스트\n",
    "- 배열 =  차례대로 메모리에 저장하고 있는데 중간에 다른 것이 저장되 있음\n",
    "    - ex) 영화관에서 친구끼리 자리가 없어서 따로 떨어져 앉는 것\n",
    "    - 해결방법 : 사용할지는 모르지만 메모리 자리를 미리 여러개 해놓는 것\n",
    "    - but 그 메모리를 쓰지않으면 낭비 and 미리 해놓은것보다 커지면 안됨"
   ]
  },
  {
   "cell_type": "markdown",
   "metadata": {},
   "source": [
    "#### 연결리스트? \n",
    "- 원소를 메모리의 어느 곳에나 둘수있음\n",
    "    - 원리는? 각 메모리 마다 자기 다음 메모리의 주소가 적혀 있음\n",
    "\n",
    "- 그럼 배열이 연결 리스트보다 좋은점은?"
   ]
  },
  {
   "cell_type": "markdown",
   "metadata": {},
   "source": [
    "#### 배열?\n",
    "- 연결리스트는 특정 메모리에 있는 원소를 보고 싶다면 처음부터 하나씩 다봐야한다.\n",
    "    - why? 그래야 다음 주소를 알수 있으니깐\n",
    "- 배열은 특정 메모리에 있는 원소의 주소를 알고 있음!\n",
    "- O(n):연결리스트 vs O(1):배열"
   ]
  },
  {
   "cell_type": "markdown",
   "metadata": {},
   "source": [
    "#### 용어\n",
    "- 배열의 index는 0부터 시작함"
   ]
  },
  {
   "cell_type": "markdown",
   "metadata": {},
   "source": [
    "##### 리스트의 가운데 삽입하기\n",
    "- 연결리스트 vs 배열\n",
    "- 연결리스트는 삽입기준 앞주소만 바꾸면 됨\n",
    "- 배열은 아예 새장소로 복사해야 함\n",
    "- O(1):연결리스트 vs O(n):배열"
   ]
  },
  {
   "cell_type": "markdown",
   "metadata": {},
   "source": [
    "#### 삭제하기\n",
    "- 이때도 연결리스트가 더나음\n",
    "- O(1):연결리스트 vs O(n):배열"
   ]
  },
  {
   "cell_type": "markdown",
   "metadata": {},
   "source": [
    "#### 자료 접근 방식\n",
    "- 임의 접근 : 원하는 원소를 바로 읽는 것 (ex 배열)\n",
    "- 순차 접근 : 첫 번째 부터 하나씩 읽는 것 (ex 연결 리스트)"
   ]
  },
  {
   "cell_type": "markdown",
   "metadata": {},
   "source": [
    "## 03. 선택 정렬\n",
    "Ex)  \n",
    "- 컴퓨터에 많은 음악이 저장되어 있는데 컴퓨터 주인이 가수별로 몇 곡을 들었는지 기록함\n",
    "- 이때 가장 많이 들은 것부터 가장 적게 들은 순서로 정렬하여 가장 좋아하는 가수 순위를 알고싶다면?\n",
    "- 방법 :\n",
    "    - 처음부터 끝까지 보고 가장 많이 들은 거 선택추가 - 처음부터 끝까지 보고 그 다음 가장 많이 들은 거 선택추가 - ....(반복)\n",
    "    - O(n*n)\n",
    "- 선택 정렬은 깔끔하지만 빠르지 않음"
   ]
  },
  {
   "cell_type": "code",
   "execution_count": 12,
   "metadata": {},
   "outputs": [
    {
     "name": "stdout",
     "output_type": "stream",
     "text": [
      "[2, 3, 5, 6, 10]\n"
     ]
    }
   ],
   "source": [
    "# 리스트에서 가장 작은 수의 index위치를 return 해주는 함수\n",
    "def findSmallest(arr):\n",
    "    smallest = arr[0]\n",
    "    smallest_index = 0\n",
    "    for i in range(1, len(arr)):\n",
    "        if arr[i] < smallest:\n",
    "            smallest = arr[i]\n",
    "            smallest_index = i\n",
    "    return smallest_index\n",
    "\n",
    "# 리스트에서 작은 것부터 오름차순을 리스트를 만들어주는 함수\n",
    "def selectionSort(arr):\n",
    "    newArr = []\n",
    "    for i in range(len(arr)):\n",
    "        smallest = findSmallest(arr)\n",
    "        newArr.append(arr.pop(smallest))\n",
    "    return newArr\n",
    "\n",
    "# 실행\n",
    "print(selectionSort([5, 3, 6, 2, 10]))"
   ]
  },
  {
   "cell_type": "code",
   "execution_count": null,
   "metadata": {},
   "outputs": [],
   "source": []
  },
  {
   "cell_type": "code",
   "execution_count": null,
   "metadata": {},
   "outputs": [],
   "source": []
  },
  {
   "cell_type": "code",
   "execution_count": null,
   "metadata": {},
   "outputs": [],
   "source": []
  }
 ],
 "metadata": {
  "kernelspec": {
   "display_name": "Python 3",
   "language": "python",
   "name": "python3"
  },
  "language_info": {
   "codemirror_mode": {
    "name": "ipython",
    "version": 3
   },
   "file_extension": ".py",
   "mimetype": "text/x-python",
   "name": "python",
   "nbconvert_exporter": "python",
   "pygments_lexer": "ipython3",
   "version": "3.6.4"
  }
 },
 "nbformat": 4,
 "nbformat_minor": 2
}
