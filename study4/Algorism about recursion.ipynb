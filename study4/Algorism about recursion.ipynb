{
 "cells": [
  {
   "cell_type": "markdown",
   "metadata": {},
   "source": [
    "# <알약>"
   ]
  },
  {
   "cell_type": "markdown",
   "metadata": {},
   "source": [
    "70세 박종수 할아버지는 매일 매일 약 반알을 먹는다. 손녀 선영이는 종수 할아버지에게 약이 N개 담긴 병을 선물로 주었다.\n",
    "\n",
    "첫째 날에 종수는 병에서 약 하나를 꺼낸다. 그 다음, 그 약을 반으로 쪼개서 한 조각은 먹고, 다른 조각은 다시 병에 넣는다.\n",
    "\n",
    "다음 날부터 종수는 병에서 약을 하나 꺼낸다. (약은 한 조각 전체 일 수도 있고, 쪼갠 반 조각 일 수도 있다) 반 조각이라면 그 약을 먹고, 아니라면 반을 쪼개서 한 조각을 먹고, 다른 조각은 다시 병에 넣는다.\n",
    "\n",
    "종수는 손녀에게 한 조각을 꺼낸 날에는 W를, 반 조각을 꺼낸 날에는 H 보낸다. 손녀는 할아버지에게 받은 문자를 종이에 기록해 놓는다. 총 2N일이 지나면 길이가 2N인 문자열이 만들어지게 된다. 이 때, 가능한 서로 다른 문자열의 개수는 총 몇 개일까?\n",
    "\n",
    "### 입력\n",
    "입력은 최대 1000개의 테스트 케이스로 이루어져 있다. 각 테스트 케이스는 한 줄이며, 병에 들어있는 약의 개수 N ≤ 30 가 주어진다.\n",
    "입력의 마지막 줄에는 0이 하나 주어진다.\n",
    "\n",
    "### 출력\n",
    "각 테스트 케이스에 대해서 가능한 문자열의 개수를 출력한다.\n",
    "\n",
    "##### (예제입력)\n",
    "```\n",
    "6\n",
    "1\n",
    "4\n",
    "2\n",
    "3\n",
    "30\n",
    "0\n",
    "```\n",
    "\n",
    "##### (예제출력)\n",
    "```\n",
    "132\n",
    "1\n",
    "14\n",
    "2\n",
    "5\n",
    "3814986502092304\n",
    "```"
   ]
  },
  {
   "cell_type": "code",
   "execution_count": null,
   "metadata": {},
   "outputs": [],
   "source": [
    " "
   ]
  },
  {
   "cell_type": "code",
   "execution_count": null,
   "metadata": {},
   "outputs": [],
   "source": []
  },
  {
   "cell_type": "markdown",
   "metadata": {},
   "source": [
    "# <영식함수>"
   ]
  },
  {
   "cell_type": "markdown",
   "metadata": {},
   "source": [
    "적어도 두 자리 이상의 어떤 자연수 N이 있을 때, 영식함수 F는 다음과 같이 정의할 수 있다. F(N) = 서로 인접한 자리수의 숫자의 차이를 큰 자리수부터 차례대로 쓴 수.\n",
    "\n",
    "예를 들어, F(5913) = 482, F(1198) = 081 = 81, F(666) = 00 = 0 이다.\n",
    "\n",
    "영식이는 영식함수를 이용해서 수열을 하나 만들 수 있는데, N, F(N), F(F(N)), .... 와 같이 한자리 숫자가 나타날 때 까지 수열을 만들 수 있다. 마지막 한자리 숫자를 숫자 N의 지문이라고 부른다.\n",
    "\n",
    "예를 들어, N=5913일 때 얻을 수 있는 수열은 5913, 482, 46, 2 이다. 5913의 지문은 2이다.\n",
    "\n",
    "어떤 숫자를 영식함수에 넣고 돌렸을 때, 지문이 7이 나오는 수를 행운의 수라고 한다.\n",
    "\n",
    "A보다 크거나 같고, B보다 작거나 같은 행운의 수의 개수를 구하는 프로그램을 작성하시오.\n",
    "\n",
    "### 입력\n",
    "첫째 줄에 A와 B가 공백을 사이에 두고 주어진다. B는 1보다 크거나 같고, 1,000,000,000보다 작거나 같은 자연수이고, A는 1보다 크거나 같고, B보다 작거나 같은 자연수이다.\n",
    "\n",
    "### 출력\n",
    "A보다 크거나 같고, B보다 작거나 같은 행운의 수의 개수를 출력한다.\n",
    "\n",
    "##### 입력예제\n",
    "```\n",
    "1 100\n",
    "```\n",
    "\n",
    "##### 출력예제\n",
    "```\n",
    "6\n",
    "```\n",
    "\n",
    "##### 힌트\n",
    "```\n",
    "7, 18, 29, 70, 81, 92\n",
    "```"
   ]
  },
  {
   "cell_type": "code",
   "execution_count": 1,
   "metadata": {},
   "outputs": [
    {
     "name": "stdout",
     "output_type": "stream",
     "text": [
      "1 100\n"
     ]
    }
   ],
   "source": [
    "X = list(map(int, input().split(\" \")))"
   ]
  },
  {
   "cell_type": "code",
   "execution_count": 2,
   "metadata": {},
   "outputs": [
    {
     "data": {
      "text/plain": [
       "1"
      ]
     },
     "execution_count": 2,
     "metadata": {},
     "output_type": "execute_result"
    }
   ],
   "source": [
    "# 목적은 1.가장뒤의 두값의 차에 절대값(새로운 값) / 2.기존의 값(pop된 n)과 새로나온 값을 함쳐 재귀를 쓰기위한 n으로 재구성 \n",
    "# pop을 하기위해 list로 형변환\n",
    "# 가장뒤의 두값의 차에 절대값\n",
    "\n",
    "def osik(n):\n",
    "    if n < 10:\n",
    "        return n\n",
    "    else:\n",
    "        n = list(str(n))\n",
    "        n_p = abs(int(n.pop()) - int(n.pop())) \n",
    "        n.append(str(n_p))\n",
    "        n = int(\"\".join(n))\n",
    "        return osik(n)\n",
    "    \n",
    "osik(1123)"
   ]
  },
  {
   "cell_type": "code",
   "execution_count": 5,
   "metadata": {},
   "outputs": [
    {
     "data": {
      "text/plain": [
       "6"
      ]
     },
     "execution_count": 5,
     "metadata": {},
     "output_type": "execute_result"
    }
   ],
   "source": [
    "alpha, omega = X[0], X[1]\n",
    "\n",
    "def fortune(alpha, omega):\n",
    "    ls = list(range(alpha, omega))\n",
    "    seven = [i for i in ls if osik(i) == 7]\n",
    "    return len(seven)\n",
    "\n",
    "fortune(alpha, omega)"
   ]
  },
  {
   "cell_type": "code",
   "execution_count": 14,
   "metadata": {},
   "outputs": [
    {
     "name": "stdout",
     "output_type": "stream",
     "text": [
      "5 6\n"
     ]
    },
    {
     "data": {
      "text/plain": [
       "0"
      ]
     },
     "execution_count": 14,
     "metadata": {},
     "output_type": "execute_result"
    }
   ],
   "source": [
    "X = list(map(int, input().split(\" \")))\n",
    "\n",
    "def osik(n):\n",
    "    if n < 10:\n",
    "        return n\n",
    "    else:\n",
    "        n = list(str(n))\n",
    "        n_p = abs(int(n.pop()) - int(n.pop())) \n",
    "        n.append(str(n_p))\n",
    "        n = int(\"\".join(n))\n",
    "        return osik(n)\n",
    "\n",
    "alpha, omega = X[0], X[1]\n",
    "\n",
    "def fortune(alpha, omega):\n",
    "    ls = list(range(alpha, omega))\n",
    "    seven = [i for i in ls if osik(i) == 7]\n",
    "    return len(seven)\n",
    "\n",
    "fortune(alpha, omega)"
   ]
  }
 ],
 "metadata": {
  "kernelspec": {
   "display_name": "Python 3",
   "language": "python",
   "name": "python3"
  },
  "language_info": {
   "codemirror_mode": {
    "name": "ipython",
    "version": 3
   },
   "file_extension": ".py",
   "mimetype": "text/x-python",
   "name": "python",
   "nbconvert_exporter": "python",
   "pygments_lexer": "ipython3",
   "version": "3.6.4"
  }
 },
 "nbformat": 4,
 "nbformat_minor": 2
}
