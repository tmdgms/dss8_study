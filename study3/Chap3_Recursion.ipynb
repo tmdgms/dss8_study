{
 "cells": [
  {
   "cell_type": "markdown",
   "metadata": {},
   "source": [
    "# 02. 재귀"
   ]
  },
  {
   "cell_type": "markdown",
   "metadata": {},
   "source": [
    "예시를 들어서 생각해보자.\n",
    "- 어떤 자물쇠가 잠겨진 가방이 있다.\n",
    "- 그 가방의 열쇠는 한 큰 상자 안에 있다고 한다.\n",
    "- 그 상자 안에는 여러개의 작은 상자들이 있고 그 작은 상자 안에는 또 더작은 상자들이 있다.\n",
    "- 열쇠는 그 상자들 어딘가에 있다.\n",
    "\n",
    "이 예제에 대한 알고리즘을 생각해보라."
   ]
  },
  {
   "cell_type": "markdown",
   "metadata": {},
   "source": [
    "##### solution 1\n",
    "- 안에 상자들을 따로 쌓아놓는다.\n",
    "- 상자를 집어 하나씩 확인한다.\n",
    "- if 열쇠가 없고 더 작은 상자가 있다면 그 상자를 상자더미에 쌓아놓는다.\n",
    "- else 열쇠가 있으면 작업종료한다."
   ]
  },
  {
   "cell_type": "code",
   "execution_count": 10,
   "metadata": {},
   "outputs": [],
   "source": [
    "# solution 1\n",
    "def look_for_key(main_box):\n",
    "    pile = main_box.make_a_pile_to_look_through()\n",
    "    while pile is not empty:\n",
    "        box = pile.grab_a_box()\n",
    "        for item in box:\n",
    "            if box in item:\n",
    "                pile.append(item)\n",
    "            else:\n",
    "                print(\"열쇠를 찾았습니다.\")\n",
    "                break"
   ]
  },
  {
   "cell_type": "markdown",
   "metadata": {},
   "source": [
    "##### solution 2\n",
    "- 상자안에 모든 물건을 확인 한다.\n",
    "- if 상자를 발견하면 전단계로 돌아간다.\n",
    "- else 열쇠를 발견하면 작업종료한다."
   ]
  },
  {
   "cell_type": "code",
   "execution_count": 12,
   "metadata": {},
   "outputs": [],
   "source": [
    "# solution 2\n",
    "def look_for_key(box):\n",
    "    for item in box:\n",
    "        if box in item:\n",
    "            look_for_key(item)\n",
    "        else:\n",
    "            print(\"열쇠를 찾았습니다.\")"
   ]
  },
  {
   "cell_type": "markdown",
   "metadata": {},
   "source": [
    "- solution2 는 함수를 함수안에서 실행!\n",
    "- 성능이 좋아지거나 하지는 않아\n",
    "- But!  Leigh Caldwel said \"프로그램에 반복문을 사용하면 프로그램의 성능을 향상시킬 수 있지만, 재귀를 사용하면 프로그래머의 능력을 향상시킬수 있습니다."
   ]
  },
  {
   "cell_type": "markdown",
   "metadata": {},
   "source": [
    "# 03. 기본단계와 재귀단계"
   ]
  },
  {
   "cell_type": "code",
   "execution_count": 13,
   "metadata": {},
   "outputs": [],
   "source": [
    "# 예제\n",
    "def countdown(i):\n",
    "    print(i)\n",
    "    countdown(i-1)"
   ]
  },
  {
   "cell_type": "markdown",
   "metadata": {},
   "source": [
    "위 함수를 실행시키면 무한 루프에 빠지게 된다!\n",
    "스크립트 중지 = Ctrl + c"
   ]
  },
  {
   "cell_type": "markdown",
   "metadata": {},
   "source": [
    "재귀함수를 만들때는 두 부분으로 나눕니다.\n",
    "- 기본단계: 함수가 자기 자신을 다시 호출하지 않는 경우\n",
    "- 재귀단계: 함수가 자기 자신을 다시 호출 하는 경우"
   ]
  },
  {
   "cell_type": "code",
   "execution_count": 20,
   "metadata": {},
   "outputs": [],
   "source": [
    "# 위 개념을 기반으로 다시한번 카운트 다운 함수를 만들면\n",
    "def countdown(i):\n",
    "    print(i)\n",
    "    if i <= 1:\n",
    "        return print(\"finish\")\n",
    "    else:\n",
    "        countdown(i-1)"
   ]
  },
  {
   "cell_type": "code",
   "execution_count": 21,
   "metadata": {},
   "outputs": [
    {
     "name": "stdout",
     "output_type": "stream",
     "text": [
      "10\n",
      "9\n",
      "8\n",
      "7\n",
      "6\n",
      "5\n",
      "4\n",
      "3\n",
      "2\n",
      "1\n",
      "finish\n"
     ]
    }
   ],
   "source": [
    "countdown(10)"
   ]
  }
 ],
 "metadata": {
  "kernelspec": {
   "display_name": "Python 3",
   "language": "python",
   "name": "python3"
  },
  "language_info": {
   "codemirror_mode": {
    "name": "ipython",
    "version": 3
   },
   "file_extension": ".py",
   "mimetype": "text/x-python",
   "name": "python",
   "nbconvert_exporter": "python",
   "pygments_lexer": "ipython3",
   "version": "3.6.4"
  }
 },
 "nbformat": 4,
 "nbformat_minor": 2
}
