{
 "cells": [
  {
   "cell_type": "markdown",
   "metadata": {},
   "source": [
    "## 01.들어가는글\n",
    "- algorism : 어떤 일을 하기위한 명령의 집합\n",
    "    - 역할 = 속도up, 흥미로운 문제 해결\n",
    "\n",
    "##### 성능에 대해 알아야 하는 것들(for 속도up)\n",
    "- 알고리즘간의 장단점(ex: 어떤 상황에서 병합정렬 vs 퀵정렬 무엇이 효율적?)\n",
    "\n",
    "##### 문제를 풀기위해 알아야 하는 것들(for 흥미로운 문제 해결)\n",
    "- 추천알고리즘, 인공지능 시스템 등을 공부함\n"
   ]
  },
  {
   "cell_type": "markdown",
   "metadata": {},
   "source": [
    "-----"
   ]
  },
  {
   "cell_type": "markdown",
   "metadata": {},
   "source": [
    "## 02.이진 탐색\n",
    "- 이진 탐색문제란...?\n",
    "    - ex \n",
    "        1. 전화번호부에서 누군가의 번호를 찾을때 이름이 백승흔인데 첫페이지부터 보는것은 비효율절! = \"단순탐색\" -> 백이면 중간어디쯤부터 보잖아? = \"이진탐색\"\n",
    "        2. 페이스북에 로그인을 할때 tmdgms9417 이라는 아이디를 찾는데 시스템이 a부터 모든아이디를 다찾는것(= \"단순탐색\") 보다는 중간어디쯤부터 찾는것이 효율적!(=\"이진탐색\")\n",
    "        3. up-down게임을 할때 1부터 순서대로 말하는것 = \"단순탐색\", 중간부터말해서 맞추는것 = \"이진탐색\" => 찾는 단계가 줄어들음 = 시간 단축"
   ]
  },
  {
   "cell_type": "markdown",
   "metadata": {},
   "source": [
    "- But! 이진탐색은 무엇인가에 기준에 의해 정렬되어야만 사용가능(=리스트의 원소들이 정렬되어 있어야만 사용가능)\n",
    "    - ex 전화번호부면 이름의 첫글자, up-down게임이면 숫자의 순서\n",
    "- 뒤에 이러한 문제를 해결하는 것도배움!"
   ]
  },
  {
   "cell_type": "markdown",
   "metadata": {},
   "source": [
    "- 파이썬으로 이진탐색 프로그램 만들기"
   ]
  },
  {
   "cell_type": "code",
   "execution_count": 14,
   "metadata": {},
   "outputs": [
    {
     "data": {
      "text/plain": [
       "2"
      ]
     },
     "execution_count": 14,
     "metadata": {},
     "output_type": "execute_result"
    }
   ],
   "source": [
    "# low, mid, high는 index값 guess, item은 리스트내에 값\n",
    "\n",
    "def binary_search(list, item):\n",
    "    low = 0\n",
    "    high = len(list) - 1\n",
    "    \n",
    "    while low <= high:\n",
    "        mid = int((low + high)/ 2) # 책에 없는데 int()를 붙여줘야 동작함\n",
    "        guess = list[mid]\n",
    "        \n",
    "        if guess == item:\n",
    "            return mid\n",
    "        elif guess > item:\n",
    "            high = mid - 1\n",
    "        else:\n",
    "            low = mid + 1\n",
    "    return None\n",
    "\n",
    "my_list = [1,3,5,7,9,10]\n",
    "\n",
    "binary_search(my_list, 3)\n",
    "binary_search(my_list, 5)"
   ]
  },
  {
   "cell_type": "markdown",
   "metadata": {},
   "source": [
    "- 위의 함수는 쉽게말해서:\n",
    "- 반나눠서 up? down? - 반나눠서 up? down? -반나눠서 up? down? ...."
   ]
  },
  {
   "cell_type": "markdown",
   "metadata": {},
   "source": [
    "- 여기서 단순탐색의 단계갯수에 log(2) 를 취한것이 이진탐색법의 단계갯수"
   ]
  },
  {
   "cell_type": "markdown",
   "metadata": {},
   "source": [
    "-----"
   ]
  },
  {
   "cell_type": "markdown",
   "metadata": {},
   "source": [
    "## 03.빅오표기법\n",
    "- 빅오표기법이란..?\n",
    "    - 알고리즘이 얼마나 빠른지 표시하는 특별한 방법\n",
    "\n",
    "##### 알고리즘 실행시간이 증가하는 속도가 다르다면?\n",
    "- 두개의 알고리즘 실행 속도가 어떻게 증가하는지 보여주기 위한 예시:\n",
    "    - \"밥\"이라는 프로그래머는 달착륙 로켓에 사용되는 착륙장소를 계산하는 알고리즘을 만들었음\n",
    "    - \"밥은 단순탐색과 이진탐색중 어떤것을 선택할지 고르는데 어떤것이 얼마나 더빠를 지를 예측해야함\n",
    "    - 이진탐색이 더 빠르겠지만 얼마나 더 빠를까?\n",
    "    - 100개의 리스트가 있고 하나당 1밀리 초가 걸린다면 단순=100밀리초, 이진=log(2)100=약7밀리초\n",
    "    - 만약 10억개이상의 원소가 있는 리스트라면? 이진이 단순보다 15배 빠르니깐 10억/15 밀리초?\n",
    "    - NO! 리스트의 갯수가 늘어날때 이 두알고리즘의 시간은 같은 비율로 증가 하지않아!\n",
    "    - 그렇다면 얼만큼의 비율로 차이가 나지는지.. 를 알아내는 것이 \"빅오표기법\"!!!!!!\n",
    "    - 시간으로 세지 않고 단계로!\n",
    "    "
   ]
  },
  {
   "cell_type": "markdown",
   "metadata": {},
   "source": [
    "##### 최악의 실행 시간을 나타내는 빅오표기법\n",
    "- 만약 list(ragne(1,1001))가 있을때 1을 찾고 싶어\n",
    "- 이때 단순 탐색으로는 1단계만에 찾아낸다! 그러면 O(1)?\n",
    "- No!! 빅오표기법은 최악으로 못찾았을때! 즉, 1000을 찾는데 걸리는 단계를 뜻함!\n",
    "- 따라서 O(1000)이 맞음!\n",
    "- 실제로해보자! (이진탐색법으로)\n",
    "    - list(ragne(1,1001)) 가 있다면 1000/2(1) = 500/2(2) = 250/2(3) = 125/2(4) \n",
    "    = 62.5/2(5)= 31.25/2(6)= 15.625/2(7) = 7.8125/2(8) = 3.90626/2(9) \n",
    "    = 1.953125/2(10)\n",
    "    - 1-1000사이의 숫자를 찾아내는데 최대 10번\n",
    "    - log(2)1000 = 9.97번 ~= 10번 "
   ]
  }
 ],
 "metadata": {
  "kernelspec": {
   "display_name": "Python 3",
   "language": "python",
   "name": "python3"
  },
  "language_info": {
   "codemirror_mode": {
    "name": "ipython",
    "version": 3
   },
   "file_extension": ".py",
   "mimetype": "text/x-python",
   "name": "python",
   "nbconvert_exporter": "python",
   "pygments_lexer": "ipython3",
   "version": "3.6.4"
  }
 },
 "nbformat": 4,
 "nbformat_minor": 2
}
