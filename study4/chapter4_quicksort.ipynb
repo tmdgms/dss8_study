{
 "cells": [
  {
   "cell_type": "markdown",
   "metadata": {},
   "source": [
    "# 01. 분할정복"
   ]
  },
  {
   "cell_type": "markdown",
   "metadata": {},
   "source": [
    "분할정복은 문제를 푸는 새로운 사고 방식을 제시한다. 앞으로 나올 그림, 코드 를 통해 분할정복을 이해하고 분할정복을 사용하는 정렬알고리즘인 퀵정렬을 설명하겠다.\n",
    "\n",
    "#### 그림\n",
    "-  가로(1680m) 세로(640m) 인 직사각형을 정사각형으로 구성되도록 나누어라.\n",
    "    - 기본단계를 해결하고 문제가 기본단계가 될때까지 나누거나 작게합니다.\n",
    "    - (기본) 먼저 세로가 더짧으니깐 세로를 기준으로 정사각형을 만들면 640m x 640m 정사각형 2개와 400m x 640m직사각형 1개로 나눌수 있다.\n",
    "    - (계속) 그러면 인제 400 x 640 을 400 기준으로 나누면 400 x 400 정사각형 1개와 400 x 240 직사각형 1개로 나눌수 있다. 이런식으로 240 x 240 정사각형 1개 160 x 240 직사각형 1개 / 160 x 160 정사각형 1개 160 x 80 직사각형 1개 / 80 x 80 정사각형 2개  이렇게 모두 정사각형으로 바꾸었다. \n",
    "    - 이렇게 기본단계에 도달했고 위 과정을 통해 80 x 80 정사각형으로 처음 직사각형을 만들수 있다는 것을 알아냈다.\n",
    "\n",
    "\n",
    "-  숫자배열이 하나 주어지고 이것을 모두 더해 합계를 구하는것 (단, 반복문이 아닌 재귀함수를 이용하여라.)\n",
    "    - (기본) 원소의 갯수가 0개 이거나 1개인 배열이 기본 단계가 된다.\n",
    "    - (계속) 재귀함수를 호출 할때마다 대상이 되는 배열의 크기가 감소해야 한다.\n",
    "    - ex) [2, 4, 6]라는 list에서 2라는 기본단계로 나눠주고 그것을 4라는 기본단계의 수와 합치고 그것을 6이라는 기본단계의 수와 합친다.\n",
    "    "
   ]
  },
  {
   "cell_type": "markdown",
   "metadata": {},
   "source": []
  },
  {
   "cell_type": "code",
   "execution_count": null,
   "metadata": {},
   "outputs": [],
   "source": []
  },
  {
   "cell_type": "code",
   "execution_count": null,
   "metadata": {},
   "outputs": [],
   "source": []
  },
  {
   "cell_type": "code",
   "execution_count": null,
   "metadata": {},
   "outputs": [],
   "source": []
  },
  {
   "cell_type": "code",
   "execution_count": null,
   "metadata": {},
   "outputs": [],
   "source": []
  }
 ],
 "metadata": {
  "kernelspec": {
   "display_name": "Python 3",
   "language": "python",
   "name": "python3"
  },
  "language_info": {
   "codemirror_mode": {
    "name": "ipython",
    "version": 3
   },
   "file_extension": ".py",
   "mimetype": "text/x-python",
   "name": "python",
   "nbconvert_exporter": "python",
   "pygments_lexer": "ipython3",
   "version": "3.6.4"
  }
 },
 "nbformat": 4,
 "nbformat_minor": 2
}
