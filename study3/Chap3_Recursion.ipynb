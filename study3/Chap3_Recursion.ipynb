{
 "cells": [
  {
   "cell_type": "markdown",
   "metadata": {},
   "source": [
    "# 02. 재귀"
   ]
  },
  {
   "cell_type": "markdown",
   "metadata": {},
   "source": [
    "예시를 들어서 생각해보자.\n",
    "- 어떤 자물쇠가 잠겨진 가방이 있다.\n",
    "- 그 가방의 열쇠는 한 큰 상자 안에 있다고 한다.\n",
    "- 그 상자 안에는 여러개의 작은 상자들이 있고 그 작은 상자 안에는 또 더작은 상자들이 있다.\n",
    "- 열쇠는 그 상자들 어딘가에 있다.\n",
    "\n",
    "이 예제에 대한 알고리즘을 생각해보라."
   ]
  },
  {
   "cell_type": "markdown",
   "metadata": {},
   "source": [
    "##### solution 1\n",
    "- 안에 상자들을 따로 쌓아놓는다.\n",
    "- 상자를 집어 하나씩 확인한다.\n",
    "- if 열쇠가 없고 더 작은 상자가 있다면 그 상자를 상자더미에 쌓아놓는다.\n",
    "- else 열쇠가 있으면 작업종료한다."
   ]
  },
  {
   "cell_type": "code",
   "execution_count": 10,
   "metadata": {},
   "outputs": [],
   "source": [
    "# solution 1\n",
    "def look_for_key(main_box):\n",
    "    pile = main_box.make_a_pile_to_look_through()\n",
    "    while pile is not empty:\n",
    "        box = pile.grab_a_box()\n",
    "        for item in box:\n",
    "            if box in item:\n",
    "                pile.append(item)\n",
    "            else:\n",
    "                print(\"열쇠를 찾았습니다.\")\n",
    "                break"
   ]
  },
  {
   "cell_type": "markdown",
   "metadata": {},
   "source": [
    "##### solution 2\n",
    "- 상자안에 모든 물건을 확인 한다.\n",
    "- if 상자를 발견하면 전단계로 돌아간다.\n",
    "- else 열쇠를 발견하면 작업종료한다."
   ]
  },
  {
   "cell_type": "code",
   "execution_count": 12,
   "metadata": {},
   "outputs": [],
   "source": [
    "# solution 2\n",
    "def look_for_key(box):\n",
    "    for item in box:\n",
    "        if box in item:\n",
    "            look_for_key(item)\n",
    "        else:\n",
    "            print(\"열쇠를 찾았습니다.\")"
   ]
  },
  {
   "cell_type": "markdown",
   "metadata": {},
   "source": [
    "- solution2 는 함수를 함수안에서 실행!\n",
    "- 성능이 좋아지거나 하지는 않아\n",
    "- But!  Leigh Caldwel said \"프로그램에 반복문을 사용하면 프로그램의 성능을 향상시킬 수 있지만, 재귀를 사용하면 프로그래머의 능력을 향상시킬수 있습니다."
   ]
  }
 ],
 "metadata": {
  "kernelspec": {
   "display_name": "Python 3",
   "language": "python",
   "name": "python3"
  },
  "language_info": {
   "codemirror_mode": {
    "name": "ipython",
    "version": 3
   },
   "file_extension": ".py",
   "mimetype": "text/x-python",
   "name": "python",
   "nbconvert_exporter": "python",
   "pygments_lexer": "ipython3",
   "version": "3.6.4"
  }
 },
 "nbformat": 4,
 "nbformat_minor": 2
}
