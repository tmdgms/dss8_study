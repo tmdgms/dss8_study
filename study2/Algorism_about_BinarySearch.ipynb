{
 "cells": [
  {
   "cell_type": "markdown",
   "metadata": {},
   "source": [
    "# < 공유기 설치 >"
   ]
  },
  {
   "cell_type": "markdown",
   "metadata": {},
   "source": [
    "도현이의 집 N개가 수직선 위에 있다. 각각의 집의 좌표는 x1, ..., xN이고, 집 여러개가 같은 좌표를 가지는 일은 없다.\n",
    "\n",
    "도현이는 언제 어디서나 와이파이를 즐기기 위해서 집에 공유기 C개를 설치하려고 한다. 최대한 많은 곳에서 와이파이를 사용하려고 하기 때문에, 한 집에는 공유기를 하나만 설치할 수 있고, 가장 인접한 두 공유기 사이의 거리를 가능한 크게 하여 설치하려고 한다.\n",
    "\n",
    "C개의 공유기를 N개의 집에 적당히 설치해서, 가장 인접한 두 공유기 사이의 거리를 최대로 하는 프로그램을 작성하시오.\n",
    "\n",
    "\n",
    "### 입력\n",
    "첫째 줄에 집의 개수 N (2 ≤ N ≤ 200,000)과 공유기의 개수 C (2 ≤ C ≤ N)이 하나 이상의 빈 칸을 사이에 두고 주어진다. 둘째 줄부터 N개의 줄에는 집의 좌표를 나타내는 xi (1 ≤ xi ≤ 1,000,000,000)가 한 줄에 하나씩 주어진다.\n",
    "\n",
    "### 출력\n",
    "첫째 줄에 가장 인접한 두 공유기 사이의 최대 거리를 출력한다.\n",
    "\n",
    "\n",
    "##### (예제 입력)\n",
    "```\n",
    "5 3\n",
    "1\n",
    "2\n",
    "8\n",
    "4\n",
    "9\n",
    "```\n",
    "##### (예제 출력)\n",
    "```\n",
    "3\n",
    "```"
   ]
  },
  {
   "cell_type": "code",
   "execution_count": 19,
   "metadata": {},
   "outputs": [
    {
     "name": "stdout",
     "output_type": "stream",
     "text": [
      "집의 개수(2 <= N <= 200,000) : 5\n",
      "공유기의 개수(2 <= C <= N) : 3\n"
     ]
    }
   ],
   "source": [
    "N, C = int(input(\"집의 개수(2 <= N <= 200,000) : \")), int(input(\"공유기의 개수(2 <= C <= N) : \"))"
   ]
  },
  {
   "cell_type": "code",
   "execution_count": 26,
   "metadata": {},
   "outputs": [
    {
     "name": "stdout",
     "output_type": "stream",
     "text": [
      "1 번째 집의 좌표 : 1\n",
      "2 번째 집의 좌표 : 2\n",
      "3 번째 집의 좌표 : 8\n",
      "4 번째 집의 좌표 : 4\n",
      "5 번째 집의 좌표 : 9\n"
     ]
    }
   ],
   "source": [
    "i = 1\n",
    "ls = []\n",
    "for _ in range(N):\n",
    "    xi = int(input(\"%d 번째 집의 좌표 : \"% i))\n",
    "    ls.append(xi)\n",
    "    i += 1"
   ]
  },
  {
   "cell_type": "code",
   "execution_count": 27,
   "metadata": {},
   "outputs": [],
   "source": [
    "c = C - 2\n",
    "ls = ls[1:len(ls)-1]"
   ]
  },
  {
   "cell_type": "code",
   "execution_count": 57,
   "metadata": {},
   "outputs": [
    {
     "name": "stdout",
     "output_type": "stream",
     "text": [
      "[2, 4, 8]\n",
      "None\n"
     ]
    }
   ],
   "source": [
    "ls.sort()\n",
    "print(ls)\n",
    "for _ in range(c):\n",
    "    print(binary_search(ls, 3))"
   ]
  },
  {
   "cell_type": "code",
   "execution_count": 54,
   "metadata": {},
   "outputs": [],
   "source": [
    "def binary_search(list, item):\n",
    "    low = 0\n",
    "    high = len(list)-1\n",
    "    \n",
    "    while low <= high:\n",
    "        mid = (low+high) // 2\n",
    "        guess = list[mid]\n",
    "        if guess == item:\n",
    "            return mid\n",
    "        elif guess > item:\n",
    "            high = mid - 1\n",
    "        else:\n",
    "            guess < mid\n",
    "            low = mid + 1\n",
    "    return None"
   ]
  },
  {
   "cell_type": "code",
   "execution_count": 58,
   "metadata": {},
   "outputs": [
    {
     "name": "stdout",
     "output_type": "stream",
     "text": [
      "13\n"
     ]
    }
   ],
   "source": [
    "my_list = [1,3,5,7,9,7,4,6,9,9,0,5,4,3,4,6,7,43,\n",
    "           67,5,52,]\n",
    "\n",
    "print(binary_search(my_list, 3))"
   ]
  },
  {
   "cell_type": "code",
   "execution_count": 50,
   "metadata": {},
   "outputs": [
    {
     "data": {
      "text/plain": [
       "2.5"
      ]
     },
     "execution_count": 50,
     "metadata": {},
     "output_type": "execute_result"
    }
   ],
   "source": [
    "(1+4)/2"
   ]
  },
  {
   "cell_type": "code",
   "execution_count": null,
   "metadata": {},
   "outputs": [],
   "source": []
  },
  {
   "cell_type": "code",
   "execution_count": 30,
   "metadata": {},
   "outputs": [
    {
     "data": {
      "text/plain": [
       "8"
      ]
     },
     "execution_count": 30,
     "metadata": {},
     "output_type": "execute_result"
    }
   ],
   "source": [
    "a = [1,2,3,4,5,6,7,8]\n",
    "max(a)"
   ]
  },
  {
   "cell_type": "code",
   "execution_count": null,
   "metadata": {},
   "outputs": [],
   "source": []
  },
  {
   "cell_type": "markdown",
   "metadata": {},
   "source": [
    "# 숫자카드"
   ]
  },
  {
   "cell_type": "markdown",
   "metadata": {},
   "source": [
    "숫자 카드는 정수 하나가 적혀져 있는 카드이다. 상근이는 숫자 카드 N개를 가지고 있다. 숫자 M개가 주어졌을 때, 이 숫자가 적혀있는 숫자 카드를 상근이가 가지고 있는지 아닌지를 구하는 프로그램을 작성하시오.\n",
    "\n",
    "### 입력\n",
    "첫째 줄에 상근이가 가지고 있는 숫자 카드의 개수 N (1 ≤ N ≤ 500,000)이가 주어진다. \n",
    "\n",
    "둘째 줄에는 숫자 카드에 적혀있는 숫자가 주어진다. 숫자 카드에 적혀있는 숫자는 -10,000,000보다 크거나 같고, 10,000,000보다 작거나 같다. 두 숫자 카드에 같은 숫자가 적혀있는 경우는 없다.\n",
    "\n",
    "셋째 줄에는 M (1 ≤ M ≤ 500,000)이 주어진다. \n",
    "\n",
    "넷째 줄에는 상근이가 가지고 있는 숫자 카드인지 아닌지를 구해야 할 M개의 숫자가 주어지며, 이 숫자는 공백으로 구분되어져 있다. 이숫자도 -10,000,000보다 크거나 같고, 10,000,000보다 작거나 같다\n",
    "\n",
    "### 출력\n",
    "첫째 줄에 입력으로 주어진 M개의 숫자에 대해서, 각 숫자가 적힌 숫자 카드를 상근이가 가지고 있으면 1을, 아니면 0을 공백으로 구분해 출력한다.\n",
    "\n",
    "##### 예제 입력\n",
    "```\n",
    "5\n",
    "6 3 2 10 -10\n",
    "8\n",
    "10 9 -5 2 3 4 5 -10\n",
    "```\n",
    "\n",
    "##### 예제 출력\n",
    "```1 0 0 1 1 0 0 1```"
   ]
  },
  {
   "cell_type": "code",
   "execution_count": 68,
   "metadata": {},
   "outputs": [
    {
     "name": "stdout",
     "output_type": "stream",
     "text": [
      "상근이가 가지고 있는 숫자 카드의 개수 N (1 ≤ N ≤ 500,000) : 5\n",
      "상근이가 가지고 있는 숫자 카드 (-10,000,000 <= N_list <= 10,000,000 and 중복X) : 6 3 2 10 -10\n",
      "맞출 카드 개수 M (1 <= M <= 500,000) :8\n",
      "상근이가 가지고 있는 숫자 카드인지 아닌지를 구할 M개의 숫자카드(-10,000,000 <= N_list <= 10,000,000 and 중복X) : 10 9 -5 2 3 4 5 -10\n"
     ]
    }
   ],
   "source": [
    "N = int(input(\"상근이가 가지고 있는 숫자 카드의 개수 N (1 ≤ N ≤ 500,000) : \"))\n",
    "N_list = list(map(int, input(\"상근이가 가지고 있는 숫자 카드 (-10,000,000 <= N_list <= 10,000,000 and 중복X) : \").split()))\n",
    "M = int(input(\"맞출 카드 개수 M (1 <= M <= 500,000) :\"))\n",
    "M_list = list(map(int, input(\"상근이가 가지고 있는 숫자 카드인지 아닌지를 구할 M개의 숫자카드(-10,000,000 <= N_list <= 10,000,000 and 중복X) : \").split()))"
   ]
  },
  {
   "cell_type": "code",
   "execution_count": 74,
   "metadata": {},
   "outputs": [],
   "source": [
    "def binary_search(list, item):\n",
    "    low = 0\n",
    "    high = len(list)-1\n",
    "    \n",
    "    while low <= high:\n",
    "        mid = (low+high) // 2\n",
    "        guess = list[mid]\n",
    "        if guess == item:\n",
    "            return mid\n",
    "        elif guess > item:\n",
    "            high = mid - 1\n",
    "        else:\n",
    "            guess < mid\n",
    "            low = mid + 1\n",
    "    return None"
   ]
  },
  {
   "cell_type": "code",
   "execution_count": 75,
   "metadata": {},
   "outputs": [
    {
     "name": "stdout",
     "output_type": "stream",
     "text": [
      "[10, 9, -5, 2, 3, 4, 5, -10] [-10, 2, 3, 6, 10]\n"
     ]
    }
   ],
   "source": [
    "N_list.sort()\n",
    "print(M_list, N_list)"
   ]
  },
  {
   "cell_type": "code",
   "execution_count": 95,
   "metadata": {},
   "outputs": [
    {
     "name": "stdout",
     "output_type": "stream",
     "text": [
      "1 0 0 1 1 0 0 1 "
     ]
    }
   ],
   "source": [
    "for i in M_list:\n",
    "    if binary_search(N_list, i) or binary_search(N_list, i)==0:\n",
    "#         print(N_list[binary_search(N_list, i)])\n",
    "        print(1, end = \" \")\n",
    "    else:\n",
    "        print(0, end = \" \")"
   ]
  },
  {
   "cell_type": "code",
   "execution_count": 94,
   "metadata": {},
   "outputs": [
    {
     "ename": "TypeError",
     "evalue": "sequence item 0: expected str instance, int found",
     "output_type": "error",
     "traceback": [
      "\u001b[1;31m---------------------------------------------------------------------------\u001b[0m",
      "\u001b[1;31mTypeError\u001b[0m                                 Traceback (most recent call last)",
      "\u001b[1;32m<ipython-input-94-fc9bb107cc08>\u001b[0m in \u001b[0;36m<module>\u001b[1;34m()\u001b[0m\n\u001b[0;32m      1\u001b[0m \u001b[0mresult2\u001b[0m \u001b[1;33m=\u001b[0m \u001b[1;33m[\u001b[0m\u001b[1;36m1\u001b[0m \u001b[1;32mif\u001b[0m \u001b[0mbinary_search\u001b[0m\u001b[1;33m(\u001b[0m\u001b[0mN_list\u001b[0m\u001b[1;33m,\u001b[0m \u001b[0mi\u001b[0m\u001b[1;33m)\u001b[0m \u001b[1;32mor\u001b[0m \u001b[0mbinary_search\u001b[0m\u001b[1;33m(\u001b[0m\u001b[0mN_list\u001b[0m\u001b[1;33m,\u001b[0m \u001b[0mi\u001b[0m\u001b[1;33m)\u001b[0m\u001b[1;33m==\u001b[0m\u001b[1;36m0\u001b[0m \u001b[1;32melse\u001b[0m \u001b[1;36m0\u001b[0m \u001b[1;32mfor\u001b[0m \u001b[0mi\u001b[0m \u001b[1;32min\u001b[0m \u001b[0mM_list\u001b[0m\u001b[1;33m]\u001b[0m\u001b[1;33m\u001b[0m\u001b[0m\n\u001b[1;32m----> 2\u001b[1;33m \u001b[1;34m\",\"\u001b[0m\u001b[1;33m.\u001b[0m\u001b[0mjoin\u001b[0m\u001b[1;33m(\u001b[0m\u001b[0mresult2\u001b[0m\u001b[1;33m)\u001b[0m\u001b[1;33m\u001b[0m\u001b[0m\n\u001b[0m",
      "\u001b[1;31mTypeError\u001b[0m: sequence item 0: expected str instance, int found"
     ]
    }
   ],
   "source": [
    "result2 = [1 if binary_search(N_list, i) or binary_search(N_list, i)==0 else 0 for i in M_list]\n",
    "\",\".join(result2)"
   ]
  },
  {
   "cell_type": "code",
   "execution_count": 96,
   "metadata": {},
   "outputs": [
    {
     "name": "stdout",
     "output_type": "stream",
     "text": [
      "상근이가 가지고 있는 숫자 카드의 개수 N (1 ≤ N ≤ 500,000) : 5\n",
      "상근이가 가지고 있는 숫자 카드 (-10,000,000 <= N_list <= 10,000,000 and 중복X) : 6 3 2 10 -10\n",
      "맞출 카드 개수 M (1 <= M <= 500,000) :8\n",
      "상근이가 가지고 있는 숫자 카드인지 아닌지를 구할 M개의 숫자카드(-10,000,000 <= N_list <= 10,000,000 and 중복X) : 10 9 -5 2 3 4 5 -10\n",
      "[10, 9, -5, 2, 3, 4, 5, -10] [-10, 2, 3, 6, 10]\n",
      "1 0 0 1 1 0 0 1 "
     ]
    }
   ],
   "source": [
    "N = int(input(\"상근이가 가지고 있는 숫자 카드의 개수 N (1 ≤ N ≤ 500,000) : \"))\n",
    "N_list = list(map(int, input(\"상근이가 가지고 있는 숫자 카드 (-10,000,000 <= N_list <= 10,000,000 and 중복X) : \").split()))\n",
    "M = int(input(\"맞출 카드 개수 M (1 <= M <= 500,000) :\"))\n",
    "M_list = list(map(int, input(\"상근이가 가지고 있는 숫자 카드인지 아닌지를 구할 M개의 숫자카드(-10,000,000 <= N_list <= 10,000,000 and 중복X) : \").split()))\n",
    "\n",
    "def binary_search(list, item):\n",
    "    low = 0\n",
    "    high = len(list)-1\n",
    "    \n",
    "    while low <= high:\n",
    "        mid = (low+high) // 2\n",
    "        guess = list[mid]\n",
    "        if guess == item:\n",
    "            return mid\n",
    "        elif guess > item:\n",
    "            high = mid - 1\n",
    "        else:\n",
    "            guess < mid\n",
    "            low = mid + 1\n",
    "    return None\n",
    "\n",
    "N_list.sort()\n",
    "print(M_list, N_list)\n",
    "\n",
    "for i in M_list:\n",
    "    if binary_search(N_list, i) or binary_search(N_list, i)==0:\n",
    "        print(1, end = \" \")\n",
    "    else:\n",
    "        print(0, end = \" \")"
   ]
  },
  {
   "cell_type": "code",
   "execution_count": null,
   "metadata": {},
   "outputs": [],
   "source": []
  },
  {
   "cell_type": "code",
   "execution_count": null,
   "metadata": {},
   "outputs": [],
   "source": []
  },
  {
   "cell_type": "code",
   "execution_count": 46,
   "metadata": {},
   "outputs": [
    {
     "name": "stdout",
     "output_type": "stream",
     "text": [
      "[1, 0, 0, 1, 1, 0, 0, 1]\n"
     ]
    }
   ],
   "source": [
    "result = [1 if i in N_list else 0 for i in M_list]\n",
    "print(result)"
   ]
  },
  {
   "cell_type": "code",
   "execution_count": 48,
   "metadata": {},
   "outputs": [],
   "source": [
    "x = list(M_list)\n",
    "y = list(N_list)"
   ]
  },
  {
   "cell_type": "code",
   "execution_count": 56,
   "metadata": {},
   "outputs": [
    {
     "data": {
      "text/plain": [
       "[-10, 2, 3, 6, 10]"
      ]
     },
     "execution_count": 56,
     "metadata": {},
     "output_type": "execute_result"
    }
   ],
   "source": [
    "N_list.sort()\n",
    "N_list"
   ]
  },
  {
   "cell_type": "code",
   "execution_count": 57,
   "metadata": {},
   "outputs": [
    {
     "name": "stdout",
     "output_type": "stream",
     "text": [
      "0\n",
      "0\n",
      "0\n",
      "1\n",
      "0\n",
      "0\n",
      "0\n",
      "0\n"
     ]
    }
   ],
   "source": [
    "for i in M_list:\n",
    "    if binary_search(N_list, i) == True :\n",
    "        print(1)\n",
    "    else :\n",
    "        print(0)\n",
    "    "
   ]
  },
  {
   "cell_type": "code",
   "execution_count": 36,
   "metadata": {},
   "outputs": [],
   "source": [
    "a = set([6,3,2,10,-10])\n",
    "b = set([10,9,-5,2,3,4,5,-10])"
   ]
  },
  {
   "cell_type": "code",
   "execution_count": 37,
   "metadata": {},
   "outputs": [
    {
     "data": {
      "text/plain": [
       "{-10, 2, 3, 10}"
      ]
     },
     "execution_count": 37,
     "metadata": {},
     "output_type": "execute_result"
    }
   ],
   "source": [
    "a&b"
   ]
  }
 ],
 "metadata": {
  "kernelspec": {
   "display_name": "Python 3",
   "language": "python",
   "name": "python3"
  },
  "language_info": {
   "codemirror_mode": {
    "name": "ipython",
    "version": 3
   },
   "file_extension": ".py",
   "mimetype": "text/x-python",
   "name": "python",
   "nbconvert_exporter": "python",
   "pygments_lexer": "ipython3",
   "version": "3.6.4"
  }
 },
 "nbformat": 4,
 "nbformat_minor": 2
}
