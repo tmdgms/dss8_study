{
 "cells": [
  {
   "cell_type": "markdown",
   "metadata": {},
   "source": [
    "## 01. 메모리가 동작하는 방법\n",
    "- 메모리에 무엇인가를 저장해야 할때 컴퓨터에게 공간을 요청함\n",
    "- 그러면 컴퓨터는 그공간에 대한 주소값을 주고 나는 거기에 무엇인가를 저장하면됨\n",
    "- ex) 놀이공원에 가서 기구를 타려고 물건을 맡기려고 할때 물건을 36번 서랍에 넣음\n",
    "    - 여기서 물건 = 저장할 것, 서랍 = 공간, 서랍번호 = 주소값\n"
   ]
  },
  {
   "cell_type": "markdown",
   "metadata": {},
   "source": [
    "## 02. 배열과 연결 리스트\n",
    "- "
   ]
  },
  {
   "cell_type": "code",
   "execution_count": null,
   "metadata": {},
   "outputs": [],
   "source": []
  }
 ],
 "metadata": {
  "kernelspec": {
   "display_name": "Python 3",
   "language": "python",
   "name": "python3"
  },
  "language_info": {
   "codemirror_mode": {
    "name": "ipython",
    "version": 3
   },
   "file_extension": ".py",
   "mimetype": "text/x-python",
   "name": "python",
   "nbconvert_exporter": "python",
   "pygments_lexer": "ipython3",
   "version": "3.6.4"
  }
 },
 "nbformat": 4,
 "nbformat_minor": 2
}
