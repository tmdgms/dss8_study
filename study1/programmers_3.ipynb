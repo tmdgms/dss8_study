{
 "cells": [
  {
   "cell_type": "code",
   "execution_count": 2,
   "metadata": {},
   "outputs": [
    {
     "name": "stdout",
     "output_type": "stream",
     "text": [
      "[1, 3, 0, 3, 1, 5, 2, 3, 1]\n"
     ]
    }
   ],
   "source": [
    "def no_continuous(s):\n",
    "    # 함수를 완성하세요\n",
    "    ls = [s[i-1] for i in range(1, len(s)) if s[i-1] != s[i]]\n",
    "    ls.append(s[-1])        \n",
    "    return ls\n",
    "\n",
    "# 아래는 테스트로 출력해 보기 위한 코드입니다.\n",
    "print( no_continuous([1,1,3,3,0,3,3,3,3,1,5,5,2,3,1]))"
   ]
  },
  {
   "cell_type": "code",
   "execution_count": 3,
   "metadata": {},
   "outputs": [
    {
     "name": "stdout",
     "output_type": "stream",
     "text": [
      "30\n"
     ]
    }
   ],
   "source": [
    "def numberOfPrime(n):\n",
    "    # 1부터 n사이의 소수는 몇 개인가요?\n",
    "    lst = [i for i in range(1,n+1) for j in range(2,i) if i%j==0]\n",
    "    return n - len(list(set(lst)))-1\n",
    "\n",
    "# 아래는 테스트로 출력해 보기 위한 코드입니다.\n",
    "print(numberOfPrime(119))"
   ]
  },
  {
   "cell_type": "code",
   "execution_count": 5,
   "metadata": {},
   "outputs": [
    {
     "name": "stdout",
     "output_type": "stream",
     "text": [
      "a\n",
      "c\n",
      "c\n",
      "c\n"
     ]
    },
    {
     "data": {
      "text/plain": [
       "3"
      ]
     },
     "execution_count": 5,
     "metadata": {},
     "output_type": "execute_result"
    }
   ],
   "source": [
    "def solution(s):\n",
    "    answer = 0\n",
    "    for i in range(len(s)):\n",
    "        if s[i] == s[i+1]:\n",
    "            print(s[i])\n",
    "            n=1\n",
    "            while s[i-n] == s[i+1+n]:\n",
    "                print(s[i-n])\n",
    "                print(s[i+1+n])\n",
    "                n +=1\n",
    "                print(n*2)\n",
    "            return n*2\n",
    "        elif s[i] == s[i+2]:\n",
    "            print(s[i+1])\n",
    "            n=1\n",
    "            while s[i+1-n] == s[i+1+n]:\n",
    "                print(s[i+1-n])\n",
    "                print(s[i+1+n])\n",
    "                print(s[i+1+n])\n",
    "                n +=1\n",
    "                return n*2-1\n",
    "            \n",
    "\n",
    "    # [실행] 버튼을 누르면 출력 값을 볼 수 있습니다.\n",
    "\n",
    "\n",
    "solution(\"sdcacds\")"
   ]
  }
 ],
 "metadata": {
  "kernelspec": {
   "display_name": "Python 3",
   "language": "python",
   "name": "python3"
  },
  "language_info": {
   "codemirror_mode": {
    "name": "ipython",
    "version": 3
   },
   "file_extension": ".py",
   "mimetype": "text/x-python",
   "name": "python",
   "nbconvert_exporter": "python",
   "pygments_lexer": "ipython3",
   "version": "3.6.4"
  }
 },
 "nbformat": 4,
 "nbformat_minor": 2
}
